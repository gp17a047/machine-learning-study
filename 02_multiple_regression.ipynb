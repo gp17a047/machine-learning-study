{
 "cells": [
  {
   "cell_type": "markdown",
   "metadata": {},
   "source": [
    "# Pythonで基礎から機械学習 重回帰分析"
   ]
  },
  {
   "cell_type": "markdown",
   "metadata": {},
   "source": [
    "今回は、前回の単回帰分析を読んだことを前提の内容となっております。ご了承ください。\n",
    "\n",
    "重回帰分析は、単回帰分析の入力変数が1つだったのが、複数（n）になったものです。それにより、単回帰から、以下のような変化があります。\n",
    "\n",
    "- 行列を使った計算が増える（複雑になる）\n",
    "- 複数の入力変数の粒度を揃えるために正規化が必要\n",
    "- 単回帰と同様の計算に対して、入力変数の数に応じた補正が必要になる場合がある\n",
    "- 入力変数同士の相関が強い（線形従属）の場合は、うまくモデル化できないので、正則化・次元削減といった対策が必要\n",
    "\n",
    "　これらに注意して、実際に手を動かしながら確認していきましょう。"
   ]
  },
  {
   "cell_type": "markdown",
   "metadata": {},
   "source": [
    "## データの読み込みと可視化\n",
    "\n",
    "単回帰のときと同様、データの読み込みと可視化を行います。\n",
    "\n",
    "今回は、前回の最後で紹介したUC バークレー大学の UCI Machine Leaning Repository にて公開されている、「Wine Quality Data Set (ワインの品質)」の赤ワインのデータセットを利用します。\n",
    "\n",
    "まずは、以下コマンドで、今回解析する対象となるデータをダウンロードします。"
   ]
  },
  {
   "cell_type": "code",
   "execution_count": 1,
   "metadata": {},
   "outputs": [
    {
     "name": "stdout",
     "output_type": "stream",
     "text": [
      "--2019-09-12 00:54:00--  http://pythondatascience.plavox.info/wp-content/uploads/2016/07/winequality-red.csv\n",
      "pythondatascience.plavox.info (pythondatascience.plavox.info) をDNSに問いあわせています... 13.230.11.70, 54.249.75.254\n",
      "pythondatascience.plavox.info (pythondatascience.plavox.info)|13.230.11.70|:80 に接続しています... 接続しました。\n",
      "HTTP による接続要求を送信しました、応答を待っています... 301 Moved Permanently\n",
      "場所: https://pythondatascience.plavox.info/wp-content/uploads/2016/07/winequality-red.csv [続く]\n",
      "--2019-09-12 00:54:00--  https://pythondatascience.plavox.info/wp-content/uploads/2016/07/winequality-red.csv\n",
      "pythondatascience.plavox.info (pythondatascience.plavox.info)|13.230.11.70|:443 に接続しています... 接続しました。\n",
      "HTTP による接続要求を送信しました、応答を待っています... 200 OK\n",
      "長さ: 84199 (82K) [application/octet-stream]\n",
      "`winequality-red.csv.2' に保存中\n",
      "\n",
      "winequality-red.csv 100%[===================>]  82.23K  --.-KB/s 時間 0.01s      \n",
      "\n",
      "2019-09-12 00:54:00 (6.45 MB/s) - `winequality-red.csv.2' へ保存完了 [84199/84199]\n",
      "\n"
     ]
    }
   ],
   "source": [
    "!wget http://pythondatascience.plavox.info/wp-content/uploads/2016/07/winequality-red.csv"
   ]
  },
  {
   "cell_type": "code",
   "execution_count": 2,
   "metadata": {},
   "outputs": [
    {
     "data": {
      "text/html": [
       "<div>\n",
       "<style>\n",
       "    .dataframe thead tr:only-child th {\n",
       "        text-align: right;\n",
       "    }\n",
       "\n",
       "    .dataframe thead th {\n",
       "        text-align: left;\n",
       "    }\n",
       "\n",
       "    .dataframe tbody tr th {\n",
       "        vertical-align: top;\n",
       "    }\n",
       "</style>\n",
       "<table border=\"1\" class=\"dataframe\">\n",
       "  <thead>\n",
       "    <tr style=\"text-align: right;\">\n",
       "      <th></th>\n",
       "      <th>fixed acidity</th>\n",
       "      <th>volatile acidity</th>\n",
       "      <th>citric acid</th>\n",
       "      <th>residual sugar</th>\n",
       "      <th>chlorides</th>\n",
       "      <th>free sulfur dioxide</th>\n",
       "      <th>total sulfur dioxide</th>\n",
       "      <th>density</th>\n",
       "      <th>pH</th>\n",
       "      <th>sulphates</th>\n",
       "      <th>alcohol</th>\n",
       "      <th>quality</th>\n",
       "    </tr>\n",
       "  </thead>\n",
       "  <tbody>\n",
       "    <tr>\n",
       "      <th>0</th>\n",
       "      <td>7.4</td>\n",
       "      <td>0.70</td>\n",
       "      <td>0.00</td>\n",
       "      <td>1.9</td>\n",
       "      <td>0.076</td>\n",
       "      <td>11.0</td>\n",
       "      <td>34.0</td>\n",
       "      <td>0.9978</td>\n",
       "      <td>3.51</td>\n",
       "      <td>0.56</td>\n",
       "      <td>9.4</td>\n",
       "      <td>5</td>\n",
       "    </tr>\n",
       "    <tr>\n",
       "      <th>1</th>\n",
       "      <td>7.8</td>\n",
       "      <td>0.88</td>\n",
       "      <td>0.00</td>\n",
       "      <td>2.6</td>\n",
       "      <td>0.098</td>\n",
       "      <td>25.0</td>\n",
       "      <td>67.0</td>\n",
       "      <td>0.9968</td>\n",
       "      <td>3.20</td>\n",
       "      <td>0.68</td>\n",
       "      <td>9.8</td>\n",
       "      <td>5</td>\n",
       "    </tr>\n",
       "    <tr>\n",
       "      <th>2</th>\n",
       "      <td>7.8</td>\n",
       "      <td>0.76</td>\n",
       "      <td>0.04</td>\n",
       "      <td>2.3</td>\n",
       "      <td>0.092</td>\n",
       "      <td>15.0</td>\n",
       "      <td>54.0</td>\n",
       "      <td>0.9970</td>\n",
       "      <td>3.26</td>\n",
       "      <td>0.65</td>\n",
       "      <td>9.8</td>\n",
       "      <td>5</td>\n",
       "    </tr>\n",
       "    <tr>\n",
       "      <th>3</th>\n",
       "      <td>11.2</td>\n",
       "      <td>0.28</td>\n",
       "      <td>0.56</td>\n",
       "      <td>1.9</td>\n",
       "      <td>0.075</td>\n",
       "      <td>17.0</td>\n",
       "      <td>60.0</td>\n",
       "      <td>0.9980</td>\n",
       "      <td>3.16</td>\n",
       "      <td>0.58</td>\n",
       "      <td>9.8</td>\n",
       "      <td>6</td>\n",
       "    </tr>\n",
       "    <tr>\n",
       "      <th>4</th>\n",
       "      <td>7.4</td>\n",
       "      <td>0.70</td>\n",
       "      <td>0.00</td>\n",
       "      <td>1.9</td>\n",
       "      <td>0.076</td>\n",
       "      <td>11.0</td>\n",
       "      <td>34.0</td>\n",
       "      <td>0.9978</td>\n",
       "      <td>3.51</td>\n",
       "      <td>0.56</td>\n",
       "      <td>9.4</td>\n",
       "      <td>5</td>\n",
       "    </tr>\n",
       "  </tbody>\n",
       "</table>\n",
       "</div>"
      ],
      "text/plain": [
       "   fixed acidity  volatile acidity  citric acid  residual sugar  chlorides  \\\n",
       "0            7.4              0.70         0.00             1.9      0.076   \n",
       "1            7.8              0.88         0.00             2.6      0.098   \n",
       "2            7.8              0.76         0.04             2.3      0.092   \n",
       "3           11.2              0.28         0.56             1.9      0.075   \n",
       "4            7.4              0.70         0.00             1.9      0.076   \n",
       "\n",
       "   free sulfur dioxide  total sulfur dioxide  density    pH  sulphates  \\\n",
       "0                 11.0                  34.0   0.9978  3.51       0.56   \n",
       "1                 25.0                  67.0   0.9968  3.20       0.68   \n",
       "2                 15.0                  54.0   0.9970  3.26       0.65   \n",
       "3                 17.0                  60.0   0.9980  3.16       0.58   \n",
       "4                 11.0                  34.0   0.9978  3.51       0.56   \n",
       "\n",
       "   alcohol  quality  \n",
       "0      9.4        5  \n",
       "1      9.8        5  \n",
       "2      9.8        5  \n",
       "3      9.8        6  \n",
       "4      9.4        5  "
      ]
     },
     "execution_count": 2,
     "metadata": {},
     "output_type": "execute_result"
    }
   ],
   "source": [
    "import pandas as pd\n",
    "\n",
    "df = pd.read_csv('winequality-red.csv', sep=';')\n",
    "df.head()"
   ]
  },
  {
   "cell_type": "code",
   "execution_count": 3,
   "metadata": {},
   "outputs": [
    {
     "name": "stdout",
     "output_type": "stream",
     "text": [
      "(1599, 2)\n",
      "(1599, 1)\n"
     ]
    }
   ],
   "source": [
    "x = df[['density', 'volatile acidity']]\n",
    "y = df[['alcohol']]\n",
    "x1 = df[['density']]\n",
    "x2 = df[['volatile acidity']]\n",
    "\n",
    "print(x.shape)\n",
    "print(y.shape)"
   ]
  },
  {
   "cell_type": "code",
   "execution_count": 4,
   "metadata": {},
   "outputs": [
    {
     "data": {
      "image/png": "[encoded data removed]",
      "text/plain": [
       "<matplotlib.figure.Figure at 0x118efc4e0>"
      ]
     },
     "metadata": {},
     "output_type": "display_data"
    }
   ],
   "source": [
    "from mpl_toolkits.mplot3d import Axes3D  #3Dplot\n",
    "import matplotlib.pyplot as plt\n",
    "import seaborn as sns\n",
    "\n",
    "fig=plt.figure()\n",
    "ax=Axes3D(fig)\n",
    " \n",
    "ax.scatter3D(x1, x2, y)\n",
    "ax.set_xlabel(\"x1\")\n",
    "ax.set_ylabel(\"x2\")\n",
    "ax.set_zlabel(\"y\")\n",
    " \n",
    "plt.show()"
   ]
  },
  {
   "cell_type": "markdown",
   "metadata": {},
   "source": [
    "## 正規化"
   ]
  },
  {
   "cell_type": "markdown",
   "metadata": {},
   "source": [
    "　重回帰分析で、入力変数が複数になったことで重要なこととして、正規化の必要性が挙げられます。\n",
    "\n",
    "　何故正規化が必要かというと、入力変数の単位（m, mm）や比べる対象（温度、密度）が異なり、そのままの数字を使うと、影響度合いをうまく評価できないからです。1mの変化と1mmの変化を同じ尺度で考えてはいけないのは、直感的にも分かりますよね。\n",
    "\n",
    "　これらの変数ごとの粒度を揃えるためのデータに対して行われる前処理が正規化(normalization)です。正規化の代表的な手法は以下2つです。\n",
    "\n",
    "- 標準化 (standardization)：平均、分散（標準偏差）を使ったもの（平均を0、分散を1にする）\n",
    "- Min-Maxスケーリング(min-max scaling)：最小値(min)、最大値(max)を使ったもの（全体を 0〜1にする）\n",
    "\n",
    "　分野によっては「正規化=標準化」だったと定義が異なり紛らわしいですが、データを一定のルールに基づいて変形して、利用しやすくすることは全て正規化と呼ぶのが一般的なようです。\n",
    "\n",
    "　数式に関しては、以下サイト参照ください。\n",
    "\n",
    "https://fisproject.jp/2016/06/data-standardization-using-python/\n",
    "\n",
    "　それぞれ説明していきます。"
   ]
  },
  {
   "cell_type": "markdown",
   "metadata": {},
   "source": [
    "### 標準化\n",
    "平均と分散を使って、平均値が0、分散が1になるようにするのが標準化です。なお、標準偏差の二乗が分散なので、これ以降では分散=標準偏差として記載していきます、ご了承下さい。\n",
    "\n",
    "平均、分散（標準偏差）を使った標準化で紛らわしいのが、分散と不偏分散（不偏標準偏差）の違いです。\n",
    "\n",
    "統計が専門の人は分散といえば不偏分散を当たり前のように使うので、結構食い違うことがあります。\n",
    "\n",
    "不偏分散を使う理由は、統計的に扱うときに色々便利だかららしいのですが、この辺りは、私自身説明できるほど理解できていませんので、詳しい説明は以下リンク先など参照下さい（理解できるようになったら、このページにも追記します）。\n",
    "\n",
    "- https://mathtrain.jp/huhenbunsan\n",
    "- https://manareki.com/unbiased_std_v\n",
    "- https://to-kei.net/basic/glossary/variance/\n",
    "\n",
    "　また、更にややこしいのが、Pythonのライブラリのscikit-learn, pandas, numpy 機械学習でよく使われるR言語で、分散（標準偏差）をもとめるとき、デフォルトでの計算結果が、分散(population standard deviation)だったり不偏分散(sample standard deviation)だったりする点です。なので、初心者は値が合わずにパニックに陥ります（私はパニックでした）。\n",
    " \n",
    " ちなみにデフォルトは以下のようです。ややこし過ぎですね。\n",
    " \n",
    " - scikit-learn: 分散\n",
    " - pandas: 不偏分散\n",
    " - numpy: 分散\n",
    " - R言語: 不偏分散\n",
    "\n",
    "具体的に計算して確認していきます。"
   ]
  },
  {
   "cell_type": "markdown",
   "metadata": {},
   "source": [
    "#### scikit-learnのStandardScalerを使う方法"
   ]
  },
  {
   "cell_type": "markdown",
   "metadata": {},
   "source": [
    "scikit-learnのStandardScalerメソッドでは、コマンド一発でいわゆる普通の分散を用いて標準化を行います。"
   ]
  },
  {
   "cell_type": "code",
   "execution_count": 5,
   "metadata": {},
   "outputs": [
    {
     "name": "stdout",
     "output_type": "stream",
     "text": [
      "[[ 0.55827446  0.96187667]\n",
      " [ 0.02826077  1.96744245]\n",
      " [ 0.13426351  1.29706527]\n",
      " ...\n",
      " [-0.53355375 -0.09955388]\n",
      " [-0.67665745  0.65462046]\n",
      " [-0.66605717 -1.21684919]]\n",
      "[[-0.96024611]\n",
      " [-0.58477711]\n",
      " [-0.58477711]\n",
      " ...\n",
      " [ 0.54162988]\n",
      " [-0.20930812]\n",
      " [ 0.54162988]]\n"
     ]
    }
   ],
   "source": [
    "from sklearn import preprocessing\n",
    "\n",
    "sscaler = preprocessing.StandardScaler()\n",
    "sscaler.fit(x)\n",
    "xss_sk = sscaler.transform(x) \n",
    "sscaler.fit(y)\n",
    "yss_sk = sscaler.transform(y)\n",
    "\n",
    "print(xss_sk)\n",
    "print(yss_sk)"
   ]
  },
  {
   "cell_type": "markdown",
   "metadata": {},
   "source": [
    "#### pandasを使う方法"
   ]
  },
  {
   "cell_type": "markdown",
   "metadata": {},
   "source": [
    "pandasで正規化する場合は、デフォルトのstdメソッドは不偏分散を使って求めます。確認してみましょう。scikit-learnの求める値と異なる値になることがわかります。"
   ]
  },
  {
   "cell_type": "code",
   "execution_count": 6,
   "metadata": {},
   "outputs": [
    {
     "name": "stdout",
     "output_type": "stream",
     "text": [
      "    density  volatile acidity\n",
      "0  0.558100          0.961576\n",
      "1  0.028252          1.966827\n",
      "2  0.134222          1.296660\n",
      "3  0.664069         -1.384011\n",
      "4  0.558100          0.961576\n",
      "    alcohol\n",
      "0 -0.959946\n",
      "1 -0.584594\n",
      "2 -0.584594\n",
      "3 -0.584594\n",
      "4 -0.959946\n"
     ]
    }
   ],
   "source": [
    "xss_pd = (x - x.mean()) / x.std()\n",
    "yss_pd = (y - y.mean()) / y.std()\n",
    "\n",
    "print(xss_pd.head())\n",
    "print(yss_pd.head())"
   ]
  },
  {
   "cell_type": "markdown",
   "metadata": {},
   "source": [
    "不偏分散でなく、いわゆる普通の分散を用いたい場合は、stdメソッドのddofオプションを使います。\n",
    "\n",
    "pandasのstdメソッドのddofオプションのデフォルト値は不偏分散を求める`ddof=1`です。`ddof=0`を設定（いわゆる普通の）分散を使うと、scikit-learnの求める値と同じになります。確認してみます。"
   ]
  },
  {
   "cell_type": "code",
   "execution_count": 7,
   "metadata": {},
   "outputs": [
    {
     "name": "stdout",
     "output_type": "stream",
     "text": [
      "    density  volatile acidity\n",
      "0  0.558274          0.961877\n",
      "1  0.028261          1.967442\n",
      "2  0.134264          1.297065\n",
      "3  0.664277         -1.384443\n",
      "4  0.558274          0.961877\n",
      "    alcohol\n",
      "0 -0.960246\n",
      "1 -0.584777\n",
      "2 -0.584777\n",
      "3 -0.584777\n",
      "4 -0.960246\n"
     ]
    }
   ],
   "source": [
    "xss_pd = (x - x.mean()) / x.std(ddof=0)\n",
    "yss_pd = (y - y.mean()) / y.std(ddof=0)\n",
    "\n",
    "print(xss_pd.head())\n",
    "print(yss_pd.head())"
   ]
  },
  {
   "cell_type": "markdown",
   "metadata": {},
   "source": [
    "scikit-learnのStandardScalerメソッドで求めた値と同じになりました。"
   ]
  },
  {
   "cell_type": "markdown",
   "metadata": {},
   "source": [
    "#### Numpyを使う方法"
   ]
  },
  {
   "cell_type": "markdown",
   "metadata": {},
   "source": [
    "続いてNumpyで計算します。Numpyでは、デフォルトは普通の分散です。scikit-learnのStandardScalerメソッドの計算値と同じになることを確認して下さい。"
   ]
  },
  {
   "cell_type": "code",
   "execution_count": 8,
   "metadata": {},
   "outputs": [
    {
     "name": "stdout",
     "output_type": "stream",
     "text": [
      "    density  volatile acidity\n",
      "0  0.558274          0.961877\n",
      "1  0.028261          1.967442\n",
      "2  0.134264          1.297065\n",
      "3  0.664277         -1.384443\n",
      "4  0.558274          0.961877\n",
      "    alcohol\n",
      "0 -0.960246\n",
      "1 -0.584777\n",
      "2 -0.584777\n",
      "3 -0.584777\n",
      "4 -0.960246\n"
     ]
    }
   ],
   "source": [
    "import numpy as np\n",
    "\n",
    "x_np = x.apply(lambda x: (x - np.mean(x)) / np.std(x))\n",
    "y_np = y.apply(lambda x: (x - np.mean(x)) / np.std(x))\n",
    "\n",
    "print(x_np.head())\n",
    "print(y_np.head())"
   ]
  },
  {
   "cell_type": "markdown",
   "metadata": {},
   "source": [
    "pandasと同様にddofオプションを使うと、不偏分散も求められます。Numpyの場合は`ddof=1`とします。"
   ]
  },
  {
   "cell_type": "code",
   "execution_count": 9,
   "metadata": {},
   "outputs": [
    {
     "name": "stdout",
     "output_type": "stream",
     "text": [
      "    density  volatile acidity\n",
      "0  0.558100          0.961576\n",
      "1  0.028252          1.966827\n",
      "2  0.134222          1.296660\n",
      "3  0.664069         -1.384011\n",
      "4  0.558100          0.961576\n",
      "    alcohol\n",
      "0 -0.959946\n",
      "1 -0.584594\n",
      "2 -0.584594\n",
      "3 -0.584594\n",
      "4 -0.959946\n"
     ]
    }
   ],
   "source": [
    "x_np = x.apply(lambda x: (x - np.mean(x)) / np.std(x, ddof=1))\n",
    "y_np = y.apply(lambda x: (x - np.mean(x)) / np.std(x, ddof=1))\n",
    "\n",
    "print(x_np.head())\n",
    "print(y_np.head())"
   ]
  },
  {
   "cell_type": "markdown",
   "metadata": {},
   "source": [
    "#### 標準化のまとめ\n",
    "分散か不偏分散かを意識して標準化を行うことが重要です。少なくとも、どちらで正規化をしているのかを把握するようにしておきましょう。そうしないと、思わぬ計算違いをしていまうことになります。\n",
    "\n",
    "最後に、平均、分散を使って正規化した変数の平均が0、分散が1になることを確認しましょう。分散のときは、分散か不偏分散かを意識します。"
   ]
  },
  {
   "cell_type": "code",
   "execution_count": 10,
   "metadata": {},
   "outputs": [
    {
     "data": {
      "text/plain": [
       "density             3.772732e-13\n",
       "volatile acidity   -1.590973e-15\n",
       "dtype: float64"
      ]
     },
     "execution_count": 10,
     "metadata": {},
     "output_type": "execute_result"
    }
   ],
   "source": [
    "x_np.mean()"
   ]
  },
  {
   "cell_type": "code",
   "execution_count": 11,
   "metadata": {},
   "outputs": [
    {
     "data": {
      "text/plain": [
       "alcohol    2.580411e-14\n",
       "dtype: float64"
      ]
     },
     "execution_count": 11,
     "metadata": {},
     "output_type": "execute_result"
    }
   ],
   "source": [
    "y_np.mean()"
   ]
  },
  {
   "cell_type": "code",
   "execution_count": 12,
   "metadata": {},
   "outputs": [
    {
     "data": {
      "text/plain": [
       "density             1.0\n",
       "volatile acidity    1.0\n",
       "dtype: float64"
      ]
     },
     "execution_count": 12,
     "metadata": {},
     "output_type": "execute_result"
    }
   ],
   "source": [
    "x_np.std()"
   ]
  },
  {
   "cell_type": "code",
   "execution_count": 13,
   "metadata": {},
   "outputs": [
    {
     "data": {
      "text/plain": [
       "alcohol    1.0\n",
       "dtype: float64"
      ]
     },
     "execution_count": 13,
     "metadata": {},
     "output_type": "execute_result"
    }
   ],
   "source": [
    "y_np.std()"
   ]
  },
  {
   "cell_type": "markdown",
   "metadata": {},
   "source": [
    "例えば、ここで不偏分散を用いて計算するところで、普通の分散を用いて計算すると、間違った答えが出てきてしまいます"
   ]
  },
  {
   "cell_type": "code",
   "execution_count": 14,
   "metadata": {},
   "outputs": [
    {
     "data": {
      "text/plain": [
       "density             0.999687\n",
       "volatile acidity    0.999687\n",
       "dtype: float64"
      ]
     },
     "execution_count": 14,
     "metadata": {},
     "output_type": "execute_result"
    }
   ],
   "source": [
    "x_np.std(ddof=0)"
   ]
  },
  {
   "cell_type": "code",
   "execution_count": 15,
   "metadata": {},
   "outputs": [
    {
     "data": {
      "text/plain": [
       "alcohol    0.999687\n",
       "dtype: float64"
      ]
     },
     "execution_count": 15,
     "metadata": {},
     "output_type": "execute_result"
    }
   ],
   "source": [
    "y_np.std(ddof=0)"
   ]
  },
  {
   "cell_type": "markdown",
   "metadata": {},
   "source": [
    "### min-maxスケーリング\n",
    "\n",
    "最小値と最大値を使って、最大値が1, 最小値が0になるように正規化をします。\n",
    "\n",
    "最小値、最大値は、それほど複雑ではないので、scikit-learnを使って計算した例と、Numpyを使って計算した例を紹介します。"
   ]
  },
  {
   "cell_type": "code",
   "execution_count": 16,
   "metadata": {},
   "outputs": [
    {
     "name": "stdout",
     "output_type": "stream",
     "text": [
      "[[0.56754772 0.39726027]\n",
      " [0.49412628 0.52054795]\n",
      " [0.50881057 0.43835616]\n",
      " ...\n",
      " [0.41629956 0.26712329]\n",
      " [0.39647577 0.35958904]\n",
      " [0.3979442  0.13013699]]\n",
      "[[0.15384615]\n",
      " [0.21538462]\n",
      " [0.21538462]\n",
      " ...\n",
      " [0.4       ]\n",
      " [0.27692308]\n",
      " [0.4       ]]\n"
     ]
    }
   ],
   "source": [
    "mscaler = preprocessing.MinMaxScaler()\n",
    "mscaler.fit(x)\n",
    "xms = mscaler.transform(x)\n",
    "mscaler.fit(y)\n",
    "yms = mscaler.transform(y)\n",
    "\n",
    "print(xms)\n",
    "print(yms)"
   ]
  },
  {
   "cell_type": "code",
   "execution_count": 17,
   "metadata": {},
   "outputs": [
    {
     "name": "stdout",
     "output_type": "stream",
     "text": [
      "    density  volatile acidity\n",
      "0  0.567548          0.397260\n",
      "1  0.494126          0.520548\n",
      "2  0.508811          0.438356\n",
      "3  0.582232          0.109589\n",
      "4  0.567548          0.397260\n",
      "    alcohol\n",
      "0  0.153846\n",
      "1  0.215385\n",
      "2  0.215385\n",
      "3  0.215385\n",
      "4  0.153846\n"
     ]
    }
   ],
   "source": [
    "x_ms = x.apply(lambda x: (x - np.min(x)) / (np.max(x) - np.min(x)))\n",
    "y_ms = y.apply(lambda x: (x - np.min(x)) / (np.max(x) - np.min(x)))\n",
    "\n",
    "print(x_ms.head())\n",
    "print(y_ms.head())"
   ]
  },
  {
   "cell_type": "markdown",
   "metadata": {},
   "source": [
    "## scikit-learnを使った重回帰分析"
   ]
  },
  {
   "cell_type": "markdown",
   "metadata": {},
   "source": [
    "### 正規化無し\n",
    "まずは正規化なしで行います"
   ]
  },
  {
   "cell_type": "code",
   "execution_count": 18,
   "metadata": {},
   "outputs": [
    {
     "name": "stdout",
     "output_type": "stream",
     "text": [
      "[[-277.78274856   -1.13941954]]\n",
      "[287.90342428]\n",
      "0.28283042699952976\n"
     ]
    }
   ],
   "source": [
    "from sklearn.linear_model import LinearRegression\n",
    "import numpy as np\n",
    "\n",
    "model_lr = LinearRegression()\n",
    "model_lr.fit(x, y)\n",
    "\n",
    "print(model_lr.coef_)\n",
    "print(model_lr.intercept_)\n",
    "print(model_lr.score(x, y))"
   ]
  },
  {
   "cell_type": "code",
   "execution_count": 21,
   "metadata": {},
   "outputs": [
    {
     "data": {
      "image/png": "[encoded data removed]",
      "text/plain": [
       "<matplotlib.figure.Figure at 0x12647a320>"
      ]
     },
     "metadata": {},
     "output_type": "display_data"
    },
    {
     "name": "stdout",
     "output_type": "stream",
     "text": [
      "[[-277.78274856   -1.13941954]]\n",
      "[287.90342428]\n",
      "0.28283042699952976\n"
     ]
    }
   ],
   "source": [
    "fig=plt.figure()\n",
    "ax=Axes3D(fig)\n",
    "\n",
    "ax.scatter3D(x1, x2, y)\n",
    "ax.set_xlabel(\"x1\")\n",
    "ax.set_ylabel(\"x2\")\n",
    "ax.set_zlabel(\"y\")\n",
    "\n",
    "mesh_x1 = np.arange(x1.min()[0], x1.max()[0], (x1.max()[0]-x1.min()[0])/20)\n",
    "mesh_x2 = np.arange(x2.min()[0], x2.max()[0], (x2.max()[0]-x2.min()[0])/20)\n",
    "mesh_x1, mesh_x2 = np.meshgrid(mesh_x1, mesh_x2)\n",
    "mesh_y = model_lr.coef_[0][0] * mesh_x1 + model_lr.coef_[0][1] * mesh_x2 + model_lr.intercept_[0]\n",
    "ax.plot_wireframe(mesh_x1, mesh_x2, mesh_y)\n",
    "plt.show()\n",
    "\n",
    "print(model_lr.coef_)\n",
    "print(model_lr.intercept_)\n",
    "print(model_lr.score(x, y))"
   ]
  },
  {
   "cell_type": "markdown",
   "metadata": {},
   "source": [
    "### 正規化（標準化）\n",
    "次は、先ほど行った標準化した値で重回帰分析を行います。\n",
    "StandardScalerを使用して求めた、xss_sk, yss_sk を用います。"
   ]
  },
  {
   "cell_type": "code",
   "execution_count": 19,
   "metadata": {},
   "outputs": [
    {
     "name": "stdout",
     "output_type": "stream",
     "text": [
      "[[-0.49196281 -0.19145194]]\n",
      "[1.1769986e-14]\n",
      "0.28283042699952887\n"
     ]
    }
   ],
   "source": [
    "model_lr_std = LinearRegression()\n",
    "model_lr_std.fit(xss_sk, yss_sk)\n",
    "\n",
    "print(model_lr_std.coef_)\n",
    "print(model_lr_std.intercept_)\n",
    "print(model_lr_std.score(xss_sk, yss_sk))"
   ]
  },
  {
   "cell_type": "markdown",
   "metadata": {},
   "source": [
    "標準化して平均が0になるような値になっているので、切片 `model_lr.intercept_` が0となっています。\n",
    "一方、scoreに関しては、正規化しても変わりません。\n",
    "\n",
    "ここで、標準化した値 x を使ったモデルを使って xからy を計算（予測）するときは、そのままだと標準化した値が出てきてしまいます。\n",
    "\n",
    "具体的には、まず正規化無しで作成したモデルを使って予想します。これが本来求めたい値です。"
   ]
  },
  {
   "cell_type": "code",
   "execution_count": 20,
   "metadata": {},
   "outputs": [
    {
     "data": {
      "text/plain": [
       "array([[ 9.93420409],\n",
       "       [10.00689132],\n",
       "       [10.08806511],\n",
       "       ...,\n",
       "       [10.72292626],\n",
       "       [10.64410597],\n",
       "       [11.02025586]])"
      ]
     },
     "execution_count": 20,
     "metadata": {},
     "output_type": "execute_result"
    }
   ],
   "source": [
    "model_lr.predict(x)"
   ]
  },
  {
   "cell_type": "code",
   "execution_count": null,
   "metadata": {
    "collapsed": true
   },
   "outputs": [],
   "source": [
    "次に、正規化した後に作成したモデルを使って予測します。"
   ]
  },
  {
   "cell_type": "code",
   "execution_count": 21,
   "metadata": {},
   "outputs": [
    {
     "data": {
      "text/plain": [
       "array([[-0.45880343],\n",
       "       [-0.39057392],\n",
       "       [-0.31437831],\n",
       "       ...,\n",
       "       [ 0.28154838],\n",
       "       [ 0.20756194],\n",
       "       [ 0.56064349]])"
      ]
     },
     "execution_count": 21,
     "metadata": {},
     "output_type": "execute_result"
    }
   ],
   "source": [
    "model_lr_std.predict(xss_sk)"
   ]
  },
  {
   "cell_type": "markdown",
   "metadata": {},
   "source": [
    "本来求めたい値と大きく異なります。これだと実際に予測したいときに困ってしまいますね。\n",
    "\n",
    "この場合、正規化する前のモデルで逆変換して戻してあげる必要があります。"
   ]
  },
  {
   "cell_type": "code",
   "execution_count": 22,
   "metadata": {},
   "outputs": [
    {
     "data": {
      "text/plain": [
       "array([[ 9.93420409],\n",
       "       [10.00689132],\n",
       "       [10.08806511],\n",
       "       ...,\n",
       "       [10.72292626],\n",
       "       [10.64410597],\n",
       "       [11.02025586]])"
      ]
     },
     "execution_count": 22,
     "metadata": {},
     "output_type": "execute_result"
    }
   ],
   "source": [
    "model_lr_std.predict(xss_sk) * np.std(y.values) + np.mean(y.values)"
   ]
  },
  {
   "cell_type": "markdown",
   "metadata": {},
   "source": [
    "### 正規化あり（min-maxスケーリング）\n",
    "次は、min-maxスケーリングした値で重回帰分析を行います。"
   ]
  },
  {
   "cell_type": "code",
   "execution_count": 23,
   "metadata": {},
   "outputs": [
    {
     "name": "stdout",
     "output_type": "stream",
     "text": [
      "[[-0.5820617  -0.25593116]]\n",
      "[0.66805047]\n",
      "0.28283042699952876\n"
     ]
    }
   ],
   "source": [
    "model_lr_norm = LinearRegression()\n",
    "model_lr_norm.fit(xms, yms)\n",
    "\n",
    "print(model_lr_norm.coef_)\n",
    "print(model_lr_norm.intercept_)\n",
    "print(model_lr_norm.score(xms, yms))"
   ]
  },
  {
   "cell_type": "markdown",
   "metadata": {},
   "source": [
    "同様に、yの値を予測するときには、以下のように逆変換をしてやる必要があります。"
   ]
  },
  {
   "cell_type": "code",
   "execution_count": 24,
   "metadata": {},
   "outputs": [
    {
     "data": {
      "text/plain": [
       "array([[ 9.93420409],\n",
       "       [10.00689132],\n",
       "       [10.08806511],\n",
       "       ...,\n",
       "       [10.72292626],\n",
       "       [10.64410597],\n",
       "       [11.02025586]])"
      ]
     },
     "execution_count": 24,
     "metadata": {},
     "output_type": "execute_result"
    }
   ],
   "source": [
    "model_lr_norm.predict(xms) * (np.max(y.values) - np.min(y.values)) + np.min(y.values)"
   ]
  },
  {
   "cell_type": "markdown",
   "metadata": {},
   "source": [
    "## Numpyを使った重回帰分析"
   ]
  },
  {
   "cell_type": "markdown",
   "metadata": {},
   "source": [
    "次にscikit-learnを使わず、Numpyで重回帰分析を行います。\n",
    "\n",
    "単回帰の場合は、回帰変数は共分散と分散から計算できましたが、重回帰の場合は、変数が複数になるため、正規方程式 (normal equation) と呼ばれる方程式を解くために、行列演算を行う必要があります。\n",
    "\n",
    "式の導出や説明などは、以下サイトを参照下さい。\n",
    "\n",
    "https://tutorials.chainer.org/ja/07_Regression_Analysis.html\n",
    "\n",
    "また、ここでの計算は正規化を行った前提となります。\n",
    "\n",
    "最初に、再度scikit-learnを使った重回帰での回帰変数の値を確認しましょう（x, yは標準化した値です）"
   ]
  },
  {
   "cell_type": "code",
   "execution_count": 25,
   "metadata": {},
   "outputs": [
    {
     "name": "stdout",
     "output_type": "stream",
     "text": [
      "[[-0.49196281 -0.19145194]]\n"
     ]
    }
   ],
   "source": [
    "model_lr_std.fit(xss_sk, yss_sk)\n",
    "\n",
    "print(model_lr_std.coef_)"
   ]
  },
  {
   "cell_type": "markdown",
   "metadata": {},
   "source": [
    "Numpyで行列演算を行い計算します。\n",
    "\n",
    "`@`は行列の積です。この書き方は、以下の本を参照にしました。\n",
    "\n",
    "また、逆行列を求める`linalg`モジュールは`LA`としてimportするのが通例のようなので、ここではそれに倣います"
   ]
  },
  {
   "cell_type": "code",
   "execution_count": 26,
   "metadata": {},
   "outputs": [
    {
     "data": {
      "text/plain": [
       "array([[-0.49196281],\n",
       "       [-0.19145194]])"
      ]
     },
     "execution_count": 26,
     "metadata": {},
     "output_type": "execute_result"
    }
   ],
   "source": [
    "from numpy import linalg as LA\n",
    "\n",
    "LA.inv(xss_sk.T @ xss_sk) @ xss_sk.T @ yss_sk"
   ]
  },
  {
   "cell_type": "markdown",
   "metadata": {},
   "source": [
    "scikit-learnの値と一致しました。"
   ]
  },
  {
   "cell_type": "markdown",
   "metadata": {},
   "source": [
    "なお、Numpyで逆行列が計算できないときは、`LinAlgError: Singular matrix` というエラーが発生します。\n",
    "\n",
    "逆行列が計算できないときは、微小な値を加えるといったテクニックが必要になりますが、Numpyで手軽に求める場合はpinvを用いて以下のように計算しましょう。"
   ]
  },
  {
   "cell_type": "code",
   "execution_count": 27,
   "metadata": {},
   "outputs": [
    {
     "data": {
      "text/plain": [
       "array([[-0.49196281],\n",
       "       [-0.19145194]])"
      ]
     },
     "execution_count": 27,
     "metadata": {},
     "output_type": "execute_result"
    }
   ],
   "source": [
    "np.linalg.pinv(xss_sk.T @ xss_sk) @ xss_sk.T @ yss_sk"
   ]
  },
  {
   "cell_type": "markdown",
   "metadata": {},
   "source": [
    "## 決定係数\n",
    "続いて決定係数 R を求めます。Rが1に近いほど、xがyを説明できているものです。\n",
    "\n",
    "決定変数は、単回帰のときと同様、全変動(Sall)、回帰変動(Sreg), 残差変動(Sres)から計算できますが、入力変数が多くなるほど1に近づくので、入力変数が複数あるときは入力変数の数(p)で補正する「自由度調整済み決定係数」Rfを用います。\n",
    "\n",
    "Sall, Sreg, Sresには以下のような関係があります。\n",
    "\n",
    "Sall = Sreg + Sres\n",
    "\n",
    "Rf = 1 - (Sres / (n-p-1) / (Sall / (n-1))\n",
    "\n",
    "R^2 = r^2\n",
    "\n",
    "詳細は、以下サイトを参照下さい。ここでは、それぞれをNumpyで計算していきます。\n",
    "\n",
    "- https://bellcurve.jp/statistics/course/9706.html\n",
    "- https://ja.wikipedia.org/wiki/%E6%B1%BA%E5%AE%9A%E4%BF%82%E6%95%B0"
   ]
  },
  {
   "cell_type": "code",
   "execution_count": 28,
   "metadata": {},
   "outputs": [
    {
     "name": "stdout",
     "output_type": "stream",
     "text": [
      "[1.]\n"
     ]
    }
   ],
   "source": [
    "s_all = 0\n",
    "\n",
    "for y_i in yss_sk:\n",
    "    s_all += (y_i - yss_sk.mean())**2\n",
    "\n",
    "s_all = s_all / yss_sk.size\n",
    "print(s_all)"
   ]
  },
  {
   "cell_type": "code",
   "execution_count": 29,
   "metadata": {},
   "outputs": [
    {
     "name": "stdout",
     "output_type": "stream",
     "text": [
      "0.2828304269995288\n"
     ]
    }
   ],
   "source": [
    "s_reg = 0\n",
    "\n",
    "for x_i in xss_sk:\n",
    "    s_reg += (model_lr_std.predict(x_i.reshape(1,-1))[0][0] - yss_sk.mean())**2\n",
    "\n",
    "s_reg = s_reg / yss_sk.size\n",
    "print(s_reg)"
   ]
  },
  {
   "cell_type": "code",
   "execution_count": 30,
   "metadata": {},
   "outputs": [
    {
     "name": "stdout",
     "output_type": "stream",
     "text": [
      "[0.71716957]\n"
     ]
    }
   ],
   "source": [
    "s_res = 0\n",
    "\n",
    "for x_i, y_i in zip(xss_sk, yss_sk):\n",
    "    s_res += (y_i - model_lr_std.predict(x_i.reshape(1,-1))[0][0])**2 \n",
    "\n",
    "s_res = s_res / yss_sk.size\n",
    "print(s_res)"
   ]
  },
  {
   "cell_type": "markdown",
   "metadata": {},
   "source": [
    "Sall = Sreg + Sres の確認"
   ]
  },
  {
   "cell_type": "code",
   "execution_count": 31,
   "metadata": {},
   "outputs": [
    {
     "name": "stdout",
     "output_type": "stream",
     "text": [
      "Sall: 1.000\n",
      "Sreg + Sres: 1.000\n"
     ]
    }
   ],
   "source": [
    "print('Sall: %.3f' %s_all)\n",
    "print('Sreg + Sres: %.3f' %(s_reg + s_res))"
   ]
  },
  {
   "cell_type": "markdown",
   "metadata": {},
   "source": [
    "Rf = 1 - (Sres / (n-p-1) / (Sall / (n-1))\n",
    "\n",
    "よりRfを計算\n",
    "\n",
    "今回入力変数の数は2なので p=2"
   ]
  },
  {
   "cell_type": "code",
   "execution_count": 32,
   "metadata": {},
   "outputs": [
    {
     "data": {
      "text/plain": [
       "array([0.28193172])"
      ]
     },
     "execution_count": 32,
     "metadata": {},
     "output_type": "execute_result"
    }
   ],
   "source": [
    "1 - (s_res / (yss_sk.size - 2 - 1)) / (s_all / (yss_sk.size -1))"
   ]
  },
  {
   "cell_type": "markdown",
   "metadata": {},
   "source": [
    "単回帰の要領で、決定係数を求めると、少し値が大きくなっているのがわかります。"
   ]
  },
  {
   "cell_type": "code",
   "execution_count": 33,
   "metadata": {},
   "outputs": [
    {
     "data": {
      "text/plain": [
       "array([0.28283043])"
      ]
     },
     "execution_count": 33,
     "metadata": {},
     "output_type": "execute_result"
    }
   ],
   "source": [
    "s_reg / s_all"
   ]
  },
  {
   "cell_type": "markdown",
   "metadata": {},
   "source": [
    "今回は、入力変数の数が2なので、それほど差がないですが、入力変数が増えるほどこの差が広がっていきます。"
   ]
  },
  {
   "cell_type": "markdown",
   "metadata": {},
   "source": [
    "## 相関行列"
   ]
  },
  {
   "cell_type": "markdown",
   "metadata": {},
   "source": [
    "次に入力変数の相関関係を確認するために、相関行列を求めます。\n",
    "\n",
    "https://algorithm.joho.info/programming/python/scikit-learn-datasets-load_diabetes/\n",
    "http://zellij.hatenablog.com/entry/20130510/p1\n",
    "\n",
    "scikit-learnでは、以下のように相関行列を求めます。"
   ]
  },
  {
   "cell_type": "code",
   "execution_count": 34,
   "metadata": {},
   "outputs": [
    {
     "data": {
      "image/png": "[encoded data removed]",
      "text/plain": [
       "<matplotlib.figure.Figure at 0x11d953f28>"
      ]
     },
     "metadata": {},
     "output_type": "display_data"
    }
   ],
   "source": [
    "import seaborn as sns\n",
    "\n",
    "# 相関係数を計算\n",
    "corr = np.corrcoef(xss_sk.T)\n",
    "\n",
    "# 相関係数をヒートマップで可視化\n",
    "sns.heatmap(corr, annot=True)\n",
    "plt.show()"
   ]
  },
  {
   "cell_type": "markdown",
   "metadata": {},
   "source": [
    "Numpyでは、入力変数の転置行列と入力の行列の積を計算して、対角行列が1になるようにスケーリングすると求められます"
   ]
  },
  {
   "cell_type": "code",
   "execution_count": 35,
   "metadata": {},
   "outputs": [
    {
     "data": {
      "image/png": "[encoded data removed]",
      "text/plain": [
       "<matplotlib.figure.Figure at 0x12150fb38>"
      ]
     },
     "metadata": {},
     "output_type": "display_data"
    }
   ],
   "source": [
    "corr_np = (xss_sk.T) @ (xss_sk) / yss_sk.size\n",
    "\n",
    "sns.heatmap(corr_np, annot=True)\n",
    "plt.show()"
   ]
  },
  {
   "cell_type": "markdown",
   "metadata": {},
   "source": [
    "相関行列の対角以外の要素を相関係数と呼びます。\n",
    "\n",
    "相関係数が大きいと、変数間の相関が強く、変数間が独立ではない（線形従属）ことになります。この現象を「多重共線性」といいます。\n",
    "\n",
    "定量的には、行列の固有値を計算して確認できます。"
   ]
  },
  {
   "cell_type": "code",
   "execution_count": 36,
   "metadata": {},
   "outputs": [
    {
     "name": "stdout",
     "output_type": "stream",
     "text": [
      "[1.02202623 0.97797377]\n"
     ]
    }
   ],
   "source": [
    "w, v = LA.eig(corr)\n",
    "print(w)"
   ]
  },
  {
   "cell_type": "markdown",
   "metadata": {},
   "source": [
    "このとき、相関行列の固有値の1部がほぼ0になると「多重共線性」となります。今回は、問題無いようです。\n",
    "\n",
    "多重共線性になると、解が計算できなかったり、信頼性が低下してしまいます。そのため、高い相関値をもつ説明変数を取り除くなどの対策を取る必要があります。"
   ]
  },
  {
   "cell_type": "markdown",
   "metadata": {},
   "source": [
    "## 多重共線性の対策\n",
    "具体的には「正則化」と「次元削減」の2種類があり、それぞれ様々な手法があります。一部を紹介すると以下のようになります。\n",
    "\n",
    "https://www.ydc.co.jp/column/0002/20190213l.html\n",
    "\n",
    "具体的な対策方法の紹介に関しては、またいずれ…\n",
    "\n",
    "### 正則化\n",
    "回帰係数が大きくなりすぎないように小さく抑える方法です。\n",
    "\n",
    "具体的には、以下手法があります。\n",
    "\n",
    "- リッジ回帰(Ridge Regression)\n",
    "- L2正則化最小二乗法（q=2）\n",
    "\n",
    "### 次元削減\n",
    "　大きく、特徴を選択する方法（1部の入力変数のみを使用する、不要な入力変数を削除する）と特徴を抽出する方法（複数の変数を1つにまとめる、変換する）の2つがあります。それぞれの手法を紹介します。\n",
    "  \n",
    "#### 特徴選択\n",
    "- LASSO\n",
    "\n",
    "#### 特徴を抽出する\n",
    "- 主成分分析"
   ]
  },
  {
   "cell_type": "markdown",
   "metadata": {},
   "source": [
    "## 統計的な解釈\n",
    "\n",
    "最後に、単回帰のときと同様に統計的な解釈を行います。ここは、statsmodelというライブラリを使って一気にやってしまいます。\n",
    "\n",
    "こちらの詳細に関しては、今回は省略します（力尽きました…）。"
   ]
  },
  {
   "cell_type": "code",
   "execution_count": 37,
   "metadata": {},
   "outputs": [
    {
     "name": "stderr",
     "output_type": "stream",
     "text": [
      "/Users/karaage/.pyenv/versions/anaconda3-4.4.0/envs/ml/lib/python3.6/site-packages/statsmodels/compat/pandas.py:56: FutureWarning: The pandas.core.datetools module is deprecated and will be removed in a future version. Please use the pandas.tseries module instead.\n",
      "  from pandas.core import datetools\n"
     ]
    },
    {
     "name": "stdout",
     "output_type": "stream",
     "text": [
      "                            OLS Regression Results                            \n",
      "==============================================================================\n",
      "Dep. Variable:                      y   R-squared:                       0.283\n",
      "Model:                            OLS   Adj. R-squared:                  0.282\n",
      "Method:                 Least Squares   F-statistic:                     314.7\n",
      "Date:                Thu, 12 Sep 2019   Prob (F-statistic):          6.11e-116\n",
      "Time:                        00:55:31   Log-Likelihood:                -2003.1\n",
      "No. Observations:                1599   AIC:                             4012.\n",
      "Df Residuals:                    1596   BIC:                             4028.\n",
      "Df Model:                           2                                         \n",
      "Covariance Type:            nonrobust                                         \n",
      "==============================================================================\n",
      "                 coef    std err          t      P>|t|      [0.025      0.975]\n",
      "------------------------------------------------------------------------------\n",
      "const       1.191e-14      0.021   5.62e-13      1.000      -0.042       0.042\n",
      "x1            -0.4920      0.021    -23.202      0.000      -0.534      -0.450\n",
      "x2            -0.1915      0.021     -9.029      0.000      -0.233      -0.150\n",
      "==============================================================================\n",
      "Omnibus:                      157.571   Durbin-Watson:                   1.494\n",
      "Prob(Omnibus):                  0.000   Jarque-Bera (JB):              216.102\n",
      "Skew:                           0.778   Prob(JB):                     1.19e-47\n",
      "Kurtosis:                       3.908   Cond. No.                         1.02\n",
      "==============================================================================\n",
      "\n",
      "Warnings:\n",
      "[1] Standard Errors assume that the covariance matrix of the errors is correctly specified.\n"
     ]
    }
   ],
   "source": [
    "import statsmodels.api as sm\n",
    "\n",
    "x_add_const = sm.add_constant(xss_sk)\n",
    "model_sm = sm.OLS(yss_sk, x_add_const).fit()\n",
    "print(model_sm.summary())"
   ]
  },
  {
   "cell_type": "markdown",
   "metadata": {},
   "source": [
    "## 参考\n",
    "- https://alexandco-python.tokyo/archives/240\n",
    "- https://openbook4.me/projects/183/sections/1366\n",
    "- https://www.enisias.cloud/machine-learning/526/\n",
    "- https://qiita.com/yossyyossy/items/ac6961ca5a0e765f56be\n",
    "- https://qiita.com/avengers_/items/faa735ae0db9655b2ea9\n",
    "- http://www.snap-tck.com/room04/c01/stat/stat07/stat0701.html\n",
    "- http://short4010.hatenablog.com/entry/2018/03/01/222721\n",
    "- https://qiita.com/seno/items/14fad1ef792e48f4d4d6"
   ]
  }
 ],
 "metadata": {
  "kernelspec": {
   "display_name": "Python 3",
   "language": "python",
   "name": "python3"
  },
  "language_info": {
   "codemirror_mode": {
    "name": "ipython",
    "version": 3
   },
   "file_extension": ".py",
   "mimetype": "text/x-python",
   "name": "python",
   "nbconvert_exporter": "python",
   "pygments_lexer": "ipython3",
   "version": "3.6.1"
  }
 },
 "nbformat": 4,
 "nbformat_minor": 2
}
