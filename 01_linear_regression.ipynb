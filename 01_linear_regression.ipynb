{
 "cells": [
  {
   "cell_type": "markdown",
   "metadata": {},
   "source": [
    "# Pythonで基礎から機械学習 単回帰分析"
   ]
  },
  {
   "cell_type": "markdown",
   "metadata": {},
   "source": [
    "データ分析の基礎中の基礎の単回帰分析をPythonを使って手を動かしながら実行していきます。\n",
    "\n",
    "単回帰はExcelを使えば簡単にできてしまうのですが、もっと複雑な機械学習手法の基礎となるので、Pythonを使ったデータ分析の練習としてあえてPythonを使います。\n",
    "\n",
    "scikit-learnを使えば一発なのですが、Numpyを使って数値をこねくり回しながら意味を確認していきます。\n",
    "\n",
    "単回帰分析に関しては、以下サイトがわかりやすかったです。\n",
    "\n",
    "https://www.albert2005.co.jp/knowledge/statistics_analysis/multivariate_analysis/single_regression\n",
    "\n",
    "他の参考書籍は以下です。\n",
    "\n",
    "\n",
    "その他、コードの実装で参考にしたサイトは、本記事の最後に列挙します。"
   ]
  },
  {
   "cell_type": "markdown",
   "metadata": {},
   "source": [
    "## データの読み込みと可視化\n",
    "\n",
    "ここでは、pandasというデータ処理を行うライブラリとmatplotlibというデータを可視化するライブラリを使って、分析するデータがどんなデータ化を確認します。\n",
    "\n",
    "まずは、pandasで分析するcsvファイルを読み込み、ファイルの中身の冒頭部分を確認します\n",
    "\n",
    "pandas, matplotlibなどのライブラリの使い方に関しては、以下ブログ記事を参照下さい。\n",
    "\n",
    "https://karaage.hatenadiary.jp/entry/2017/05/25/073000"
   ]
  },
  {
   "cell_type": "code",
   "execution_count": 1,
   "metadata": {},
   "outputs": [
    {
     "data": {
      "text/html": [
       "<div>\n",
       "<style>\n",
       "    .dataframe thead tr:only-child th {\n",
       "        text-align: right;\n",
       "    }\n",
       "\n",
       "    .dataframe thead th {\n",
       "        text-align: left;\n",
       "    }\n",
       "\n",
       "    .dataframe tbody tr th {\n",
       "        vertical-align: top;\n",
       "    }\n",
       "</style>\n",
       "<table border=\"1\" class=\"dataframe\">\n",
       "  <thead>\n",
       "    <tr style=\"text-align: right;\">\n",
       "      <th></th>\n",
       "      <th>x</th>\n",
       "      <th>y</th>\n",
       "    </tr>\n",
       "  </thead>\n",
       "  <tbody>\n",
       "    <tr>\n",
       "      <th>0</th>\n",
       "      <td>1</td>\n",
       "      <td>2</td>\n",
       "    </tr>\n",
       "    <tr>\n",
       "      <th>1</th>\n",
       "      <td>2</td>\n",
       "      <td>3</td>\n",
       "    </tr>\n",
       "    <tr>\n",
       "      <th>2</th>\n",
       "      <td>5</td>\n",
       "      <td>2</td>\n",
       "    </tr>\n",
       "    <tr>\n",
       "      <th>3</th>\n",
       "      <td>10</td>\n",
       "      <td>3</td>\n",
       "    </tr>\n",
       "    <tr>\n",
       "      <th>4</th>\n",
       "      <td>28</td>\n",
       "      <td>4</td>\n",
       "    </tr>\n",
       "  </tbody>\n",
       "</table>\n",
       "</div>"
      ],
      "text/plain": [
       "    x  y\n",
       "0   1  2\n",
       "1   2  3\n",
       "2   5  2\n",
       "3  10  3\n",
       "4  28  4"
      ]
     },
     "execution_count": 1,
     "metadata": {},
     "output_type": "execute_result"
    }
   ],
   "source": [
    "import pandas as pd\n",
    "\n",
    "df = pd.read_csv('data/karaage_data.csv')\n",
    "df.head()"
   ]
  },
  {
   "cell_type": "markdown",
   "metadata": {},
   "source": [
    "このデータは、お祭りの来場者に対する、からあげ屋さんの出店の数という架空のデータです。\n",
    "\n",
    "xが来場者[万人] yがからあげ屋さんの出店の数を表しています。例えば、1万人のお祭りだとからあげ屋さんは2つ。10万人のお祭りだとからあげ屋さんは3つという感じです。\n",
    "\n",
    "x列、y列にある値を x, y に格納します。今後この、x, y の値を分析していきます。"
   ]
  },
  {
   "cell_type": "code",
   "execution_count": 2,
   "metadata": {
    "collapsed": true
   },
   "outputs": [],
   "source": [
    "x = df[['x']]\n",
    "y = df[['y']]"
   ]
  },
  {
   "cell_type": "markdown",
   "metadata": {},
   "source": [
    "まずは、x, yをグラフで可視化します。matplotlibというライブラリを使います。"
   ]
  },
  {
   "cell_type": "code",
   "execution_count": 3,
   "metadata": {},
   "outputs": [
    {
     "data": {
      "image/png": "[encoded data removed]",
      "text/plain": [
       "<matplotlib.figure.Figure at 0x11efc1160>"
      ]
     },
     "metadata": {},
     "output_type": "display_data"
    }
   ],
   "source": [
    "import matplotlib.pyplot as plt\n",
    "import seaborn as sns\n",
    "\n",
    "plt.plot(x, y, 'o')\n",
    "plt.show()"
   ]
  },
  {
   "cell_type": "markdown",
   "metadata": {},
   "source": [
    "お祭りの来場者(x)が増えるほど、からあげの出店数が増えているのがなんとなく見えますね。"
   ]
  },
  {
   "cell_type": "markdown",
   "metadata": {},
   "source": [
    "## scikit-learnを使った単回帰分析\n",
    "\n",
    "\n",
    "早速、単回帰分析をしていきます。まずは、scikit-learnというライブラリでPythonの実力を体感します。"
   ]
  },
  {
   "cell_type": "code",
   "execution_count": 4,
   "metadata": {},
   "outputs": [
    {
     "data": {
      "text/plain": [
       "LinearRegression(copy_X=True, fit_intercept=True, n_jobs=None, normalize=False)"
      ]
     },
     "execution_count": 4,
     "metadata": {},
     "output_type": "execute_result"
    }
   ],
   "source": [
    "from sklearn.linear_model import LinearRegression\n",
    "\n",
    "model_lr = LinearRegression()\n",
    "model_lr.fit(x, y)"
   ]
  },
  {
   "cell_type": "markdown",
   "metadata": {},
   "source": [
    "これで、完了です。一瞬ですね。早速結果を可視化します"
   ]
  },
  {
   "cell_type": "code",
   "execution_count": 5,
   "metadata": {},
   "outputs": [
    {
     "data": {
      "image/png": "[encoded data removed]",
      "text/plain": [
       "<matplotlib.figure.Figure at 0x124105710>"
      ]
     },
     "metadata": {},
     "output_type": "display_data"
    },
    {
     "name": "stdout",
     "output_type": "stream",
     "text": [
      "モデル関数の回帰変数 w1: 0.088\n",
      "モデル関数の切片 w2: 2.066\n",
      "y= 0.088x + 2.066\n",
      "決定係数 R^2：  0.8844953173777316\n"
     ]
    }
   ],
   "source": [
    "import matplotlib.pyplot as plt\n",
    "import seaborn\n",
    "\n",
    "plt.plot(x, y, 'o')\n",
    "plt.plot(x, model_lr.predict(x), linestyle=\"solid\")\n",
    "plt.show()\n",
    "\n",
    "print('モデル関数の回帰変数 w1: %.3f' %model_lr.coef_)\n",
    "print('モデル関数の切片 w2: %.3f' %model_lr.intercept_)\n",
    "print('y= %.3fx + %.3f' % (model_lr.coef_ , model_lr.intercept_))\n",
    "print('決定係数 R^2： ', model_lr.score(x, y))"
   ]
  },
  {
   "cell_type": "markdown",
   "metadata": {},
   "source": [
    "単回帰ができてしまいました。\n",
    "\n",
    "これで完了！でも良いのですが、それぞれの数字の意味や求め方をNumpyを使って計算していきましょう。"
   ]
  },
  {
   "cell_type": "markdown",
   "metadata": {},
   "source": [
    "## Numpyを使った単回帰分析\n",
    "\n",
    "ここから、Numpyを使って単回帰分析で求めた値を計算し、その意味を解きほぐしていきましょう。\n",
    "\n",
    "まずは、pandasで読み込んだデータをnumpyのデータ形式に変換します。\n",
    "\n",
    "x, y と x, yを結合した行列を、それぞれ np_x, np_y, np_xy という numpy の配列として読み込みます。"
   ]
  },
  {
   "cell_type": "code",
   "execution_count": 6,
   "metadata": {},
   "outputs": [
    {
     "name": "stdout",
     "output_type": "stream",
     "text": [
      "np_x: [ 1  2  5 10 28 40]\n",
      "np_y: [ 1  2  5 10 28 40]\n",
      "np_xy:\n",
      "[[ 1  2  5 10 28 40]\n",
      " [ 2  3  2  3  4  6]]\n"
     ]
    }
   ],
   "source": [
    "import numpy as np\n",
    "np_x = x.values\n",
    "np_x = np_x.T[0]\n",
    "np_y = y.values\n",
    "np_y = np_y.T[0]\n",
    "np_xy = np.stack([np_x, np_y])\n",
    "\n",
    "print('np_x:', np_x)\n",
    "print('np_y:', np_x)\n",
    "print('np_xy:')\n",
    "print(np_xy)"
   ]
  },
  {
   "cell_type": "markdown",
   "metadata": {},
   "source": [
    "単回帰分析は、以下のサイトによると、モデル関数の回帰変数 w1 が x,yの共分散(Sxy)/ xの分散(Sxx) で求められるので、まずは xの分散(Sxx)とx,yの共分散(Sxy)を求めていきます\n",
    "\n",
    "https://www.albert2005.co.jp/knowledge/statistics_analysis/multivariate_analysis/single_regression\n",
    "\n",
    "Numpyのconvメソッドにx,yを結合した行列を引数で渡して返ってくる行列の[0][0]がxの分散、[0][1], [1][0]の要素がx,yの共分散, [1][1]の要素がyの分散になります。"
   ]
  },
  {
   "cell_type": "code",
   "execution_count": 7,
   "metadata": {},
   "outputs": [
    {
     "name": "stdout",
     "output_type": "stream",
     "text": [
      "[[213.55555556  18.88888889]\n",
      " [ 18.88888889   1.88888889]]\n"
     ]
    }
   ],
   "source": [
    "s_xy = np.cov(np_xy, rowvar=1, bias=1)\n",
    "\n",
    "print(s_xy)"
   ]
  },
  {
   "cell_type": "markdown",
   "metadata": {},
   "source": [
    "x,yの分散は np.var(np_x), np.var(np.y)でも求められます。同じ値になることを確認します。"
   ]
  },
  {
   "cell_type": "code",
   "execution_count": 8,
   "metadata": {},
   "outputs": [
    {
     "name": "stdout",
     "output_type": "stream",
     "text": [
      "S_xx : 213.556\n",
      "S_yy : 1.889\n"
     ]
    }
   ],
   "source": [
    "s_xx = np.var(np_x)\n",
    "s_yy = np.var(np_y)\n",
    "\n",
    "print('S_xx : %.3f' %s_xx)\n",
    "print('S_yy : %.3f' %s_yy)"
   ]
  },
  {
   "cell_type": "markdown",
   "metadata": {},
   "source": [
    "w1を計算します。scikit-learnで計算した値と同じになります。"
   ]
  },
  {
   "cell_type": "code",
   "execution_count": 9,
   "metadata": {},
   "outputs": [
    {
     "name": "stdout",
     "output_type": "stream",
     "text": [
      "w1 : 0.088\n"
     ]
    }
   ],
   "source": [
    "w_1 = s_xy[0][1] / s_xx\n",
    "print('w1 : %.3f' %w_1)"
   ]
  },
  {
   "cell_type": "markdown",
   "metadata": {},
   "source": [
    "w0を計算します。w0は先ほど求めたw1とxとyの平均値を使って求めることができます。"
   ]
  },
  {
   "cell_type": "code",
   "execution_count": 10,
   "metadata": {},
   "outputs": [
    {
     "name": "stdout",
     "output_type": "stream",
     "text": [
      "w0 : 2.066\n"
     ]
    }
   ],
   "source": [
    "np_x_mean = np_x.mean()\n",
    "np_y_mean = np_y.mean()\n",
    "\n",
    "w_0 = np_y_mean - w_1 * np_x_mean\n",
    "print('w0 : %.3f' %w_0)"
   ]
  },
  {
   "cell_type": "markdown",
   "metadata": {},
   "source": [
    "続いて決定係数 R を求めます。Rが1に近いほど、xがyを説明できているということになるそうです。\n",
    "\n",
    "決定変数は、全変動(Sall)、回帰変動(Sreg), 残差変動(Sres)から計算できます。\n",
    "\n",
    "Sall, Sreg, Sresには以下のような関係があります。\n",
    "\n",
    "Sall = Sreg + Sres\n",
    "\n",
    "R = Sreg/Sall\n",
    "\n",
    "R^2 = r^2\n",
    "\n",
    "詳細は、以下サイトを参照下さい。ここでは、それぞれをNumpyで計算していきます。\n",
    "\n",
    "- https://mathtrain.jp/sanhendo\n",
    "- https://mathtrain.jp/ketteikeisu"
   ]
  },
  {
   "cell_type": "markdown",
   "metadata": {},
   "source": [
    "Sallの計算"
   ]
  },
  {
   "cell_type": "code",
   "execution_count": 11,
   "metadata": {},
   "outputs": [
    {
     "name": "stdout",
     "output_type": "stream",
     "text": [
      "1.888888888888889\n"
     ]
    }
   ],
   "source": [
    "s_all = 0\n",
    "\n",
    "for y_i in np_y:\n",
    "    s_all += (y_i - np_y_mean)**2\n",
    "\n",
    "\n",
    "print(s_all / np_y.size)"
   ]
  },
  {
   "cell_type": "markdown",
   "metadata": {},
   "source": [
    "Sregの計算"
   ]
  },
  {
   "cell_type": "code",
   "execution_count": 12,
   "metadata": {},
   "outputs": [
    {
     "name": "stdout",
     "output_type": "stream",
     "text": [
      "1.6707133772690488\n"
     ]
    }
   ],
   "source": [
    "s_reg = 0\n",
    "\n",
    "for x_i in np_x:\n",
    "    s_reg += (model_lr.predict(x_i.reshape(1,-1))[0][0] - np_y_mean)**2\n",
    "\n",
    "print(s_reg / np_x.size)"
   ]
  },
  {
   "cell_type": "markdown",
   "metadata": {},
   "source": [
    "Sresの計算"
   ]
  },
  {
   "cell_type": "code",
   "execution_count": 13,
   "metadata": {},
   "outputs": [
    {
     "name": "stdout",
     "output_type": "stream",
     "text": [
      "0.21817551161984047\n"
     ]
    }
   ],
   "source": [
    "s_res = 0\n",
    "\n",
    "for x_i, y_i in zip(np_x, np_y):\n",
    "    s_res += (y_i - model_lr.predict(x_i.reshape(1,-1))[0][0])**2 \n",
    "\n",
    "print(s_res / np_x.size)"
   ]
  },
  {
   "cell_type": "markdown",
   "metadata": {},
   "source": [
    "Sall = Sreg + Sres の確認"
   ]
  },
  {
   "cell_type": "code",
   "execution_count": 14,
   "metadata": {},
   "outputs": [
    {
     "name": "stdout",
     "output_type": "stream",
     "text": [
      "Sall: 11.333\n",
      "Sreg + Sres: 11.333\n"
     ]
    }
   ],
   "source": [
    "print('Sall: %.3f' %s_all)\n",
    "print('Sreg + Sres: %.3f' %(s_reg + s_res))"
   ]
  },
  {
   "cell_type": "markdown",
   "metadata": {},
   "source": [
    "R^2 = Sreg / Sall より R2を計算"
   ]
  },
  {
   "cell_type": "code",
   "execution_count": 15,
   "metadata": {},
   "outputs": [
    {
     "name": "stdout",
     "output_type": "stream",
     "text": [
      "R^2: 0.884\n"
     ]
    }
   ],
   "source": [
    "R2 = s_reg / s_all\n",
    "print('R^2: %.3f' %R2)"
   ]
  },
  {
   "cell_type": "markdown",
   "metadata": {},
   "source": [
    "S_xx, S_yy, S_xyから求められる相関係数rという値があるのですが、決定係数と相関係数の間には以下のような関係があります。\n",
    "\n",
    "R^2 = r^2\n",
    "\n",
    "詳細は以下参照下さい。\n",
    "\n",
    "- https://sci-pursuit.com/math/statistics/correlation-coefficient.html\n",
    "- https://mathtrain.jp/ketteikeisu\n",
    "\n",
    "ここではNumpyでrを求め、R^2 = r^2 となることを確認します。"
   ]
  },
  {
   "cell_type": "code",
   "execution_count": 16,
   "metadata": {},
   "outputs": [
    {
     "name": "stdout",
     "output_type": "stream",
     "text": [
      "r2: 0.884\n",
      "R^2: 0.884\n"
     ]
    }
   ],
   "source": [
    "r = s_xy[0][1] / (s_xx * s_yy)**(0.5)\n",
    "r2 = r**2\n",
    "print('r2: %.3f' %r2)\n",
    "print('R^2: %.3f' %R2)"
   ]
  },
  {
   "cell_type": "markdown",
   "metadata": {},
   "source": [
    "相関関数は、Numpyのcorrcoefというメソッドを使っても計算できます。"
   ]
  },
  {
   "cell_type": "code",
   "execution_count": 17,
   "metadata": {},
   "outputs": [
    {
     "data": {
      "text/plain": [
       "array([[1.        , 0.94047611],\n",
       "       [0.94047611, 1.        ]])"
      ]
     },
     "execution_count": 17,
     "metadata": {},
     "output_type": "execute_result"
    }
   ],
   "source": [
    "np.corrcoef(np_xy)"
   ]
  },
  {
   "cell_type": "markdown",
   "metadata": {},
   "source": [
    "[0][1]と[1][0]の要素が相関関数です。2乗してR^2と等しくなることを確認します。"
   ]
  },
  {
   "cell_type": "code",
   "execution_count": 18,
   "metadata": {},
   "outputs": [
    {
     "data": {
      "text/plain": [
       "0.8844953173777311"
      ]
     },
     "execution_count": 18,
     "metadata": {},
     "output_type": "execute_result"
    }
   ],
   "source": [
    "np.corrcoef(np_xy)[0][1]**2"
   ]
  },
  {
   "cell_type": "markdown",
   "metadata": {},
   "source": [
    "## 統計的な解釈\n",
    "\n",
    "次に、統計的な解釈を行います。ここは、statsmodelというライブラリを使って一気にやってしまいます。"
   ]
  },
  {
   "cell_type": "code",
   "execution_count": 19,
   "metadata": {},
   "outputs": [
    {
     "name": "stdout",
     "output_type": "stream",
     "text": [
      "                            OLS Regression Results                            \n",
      "==============================================================================\n",
      "Dep. Variable:                      y   R-squared:                       0.884\n",
      "Model:                            OLS   Adj. R-squared:                  0.856\n",
      "Method:                 Least Squares   F-statistic:                     30.63\n",
      "Date:                Fri, 30 Aug 2019   Prob (F-statistic):            0.00521\n",
      "Time:                        23:56:04   Log-Likelihood:                -3.9463\n",
      "No. Observations:                   6   AIC:                             11.89\n",
      "Df Residuals:                       4   BIC:                             11.48\n",
      "Df Model:                           1                                         \n",
      "Covariance Type:            nonrobust                                         \n",
      "==============================================================================\n",
      "                 coef    std err          t      P>|t|      [0.025      0.975]\n",
      "------------------------------------------------------------------------------\n",
      "const          2.0656      0.327      6.314      0.003       1.157       2.974\n",
      "x              0.0884      0.016      5.534      0.005       0.044       0.133\n",
      "==============================================================================\n",
      "Omnibus:                          nan   Durbin-Watson:                   3.036\n",
      "Prob(Omnibus):                    nan   Jarque-Bera (JB):                0.484\n",
      "Skew:                           0.332   Prob(JB):                        0.785\n",
      "Kurtosis:                       1.777   Cond. No.                         28.7\n",
      "==============================================================================\n",
      "\n",
      "Warnings:\n",
      "[1] Standard Errors assume that the covariance matrix of the errors is correctly specified.\n"
     ]
    },
    {
     "name": "stderr",
     "output_type": "stream",
     "text": [
      "/Users/karaage/.pyenv/versions/anaconda3-4.4.0/envs/ml/lib/python3.6/site-packages/statsmodels/compat/pandas.py:56: FutureWarning: The pandas.core.datetools module is deprecated and will be removed in a future version. Please use the pandas.tseries module instead.\n",
      "  from pandas.core import datetools\n",
      "/Users/karaage/.pyenv/versions/anaconda3-4.4.0/envs/ml/lib/python3.6/site-packages/statsmodels/stats/stattools.py:72: ValueWarning: omni_normtest is not valid with less than 8 observations; 6 samples were given.\n",
      "  \"samples were given.\" % int(n), ValueWarning)\n"
     ]
    }
   ],
   "source": [
    "import statsmodels.api as sm\n",
    "\n",
    "x_add_const = sm.add_constant(x)\n",
    "model_sm = sm.OLS(y, x_add_const).fit()\n",
    "print(model_sm.summary())"
   ]
  },
  {
   "cell_type": "markdown",
   "metadata": {},
   "source": [
    "今まで求めた、モデル関数の回帰変数 w1 0.088, モデル関数の切片 w2 2.066, 決定係数 R^2 0.0884に加え、今回生成した線形モデルに対する、様々な統計的な評価値が算出されています。\n",
    "\n",
    "検定とか、信頼区間と言われるようなものです。そうです、よく分かっていません。ごめんなさい。\n",
    "\n",
    "ざっくりとした見方としては、 ここでは const が切片、 xが回帰変数を意味しています。\n",
    "\n",
    "それぞれの P>|t| は 0 に近いほど妥当性があるということになります。一般的には0.05以下なら妥当性があるとするらしいです。今回は、0.003と0.005なので十分小さい値です。\n",
    "\n",
    "また、信頼区間は constが 1.157〜2.974、 xが0.044〜0.133となっていますが、これはだいたい（95%以上）は、この範囲の中にデータが収まっているよという範囲です。\n"
   ]
  },
  {
   "cell_type": "markdown",
   "metadata": {},
   "source": [
    "## 他のデータセットでの分析\n",
    "\n",
    "他のデータセットでの分析にも挑戦してみましょう。\n",
    "\n",
    "以下のコマンドで、データ分析の例としてよく使われる、UC バークレー大学の UCI Machine Leaning Repository にて公開されている、「Wine Quality Data Set (ワインの品質)」の赤ワインのデータセットをダウンロードできます。"
   ]
  },
  {
   "cell_type": "code",
   "execution_count": 20,
   "metadata": {},
   "outputs": [
    {
     "name": "stdout",
     "output_type": "stream",
     "text": [
      "--2019-08-30 23:56:05--  http://pythondatascience.plavox.info/wp-content/uploads/2016/07/winequality-red.csv\n",
      "pythondatascience.plavox.info (pythondatascience.plavox.info) をDNSに問いあわせています... 13.230.11.70, 54.249.75.254\n",
      "pythondatascience.plavox.info (pythondatascience.plavox.info)|13.230.11.70|:80 に接続しています... 接続しました。\n",
      "HTTP による接続要求を送信しました、応答を待っています... 301 Moved Permanently\n",
      "場所: https://pythondatascience.plavox.info/wp-content/uploads/2016/07/winequality-red.csv [続く]\n",
      "--2019-08-30 23:56:05--  https://pythondatascience.plavox.info/wp-content/uploads/2016/07/winequality-red.csv\n",
      "pythondatascience.plavox.info (pythondatascience.plavox.info)|13.230.11.70|:443 に接続しています... 接続しました。\n",
      "HTTP による接続要求を送信しました、応答を待っています... 200 OK\n",
      "長さ: 84199 (82K) [application/octet-stream]\n",
      "`winequality-red.csv.1' に保存中\n",
      "\n",
      "winequality-red.csv 100%[===================>]  82.23K  --.-KB/s 時間 0.02s      \n",
      "\n",
      "2019-08-30 23:56:05 (4.76 MB/s) - `winequality-red.csv.1' へ保存完了 [84199/84199]\n",
      "\n"
     ]
    }
   ],
   "source": [
    "!wget http://pythondatascience.plavox.info/wp-content/uploads/2016/07/winequality-red.csv"
   ]
  },
  {
   "cell_type": "markdown",
   "metadata": {},
   "source": [
    "以下で、pandasでデータを読み込み"
   ]
  },
  {
   "cell_type": "code",
   "execution_count": 21,
   "metadata": {},
   "outputs": [
    {
     "data": {
      "text/html": [
       "<div>\n",
       "<style>\n",
       "    .dataframe thead tr:only-child th {\n",
       "        text-align: right;\n",
       "    }\n",
       "\n",
       "    .dataframe thead th {\n",
       "        text-align: left;\n",
       "    }\n",
       "\n",
       "    .dataframe tbody tr th {\n",
       "        vertical-align: top;\n",
       "    }\n",
       "</style>\n",
       "<table border=\"1\" class=\"dataframe\">\n",
       "  <thead>\n",
       "    <tr style=\"text-align: right;\">\n",
       "      <th></th>\n",
       "      <th>fixed acidity</th>\n",
       "      <th>volatile acidity</th>\n",
       "      <th>citric acid</th>\n",
       "      <th>residual sugar</th>\n",
       "      <th>chlorides</th>\n",
       "      <th>free sulfur dioxide</th>\n",
       "      <th>total sulfur dioxide</th>\n",
       "      <th>density</th>\n",
       "      <th>pH</th>\n",
       "      <th>sulphates</th>\n",
       "      <th>alcohol</th>\n",
       "      <th>quality</th>\n",
       "    </tr>\n",
       "  </thead>\n",
       "  <tbody>\n",
       "    <tr>\n",
       "      <th>0</th>\n",
       "      <td>7.4</td>\n",
       "      <td>0.70</td>\n",
       "      <td>0.00</td>\n",
       "      <td>1.9</td>\n",
       "      <td>0.076</td>\n",
       "      <td>11.0</td>\n",
       "      <td>34.0</td>\n",
       "      <td>0.9978</td>\n",
       "      <td>3.51</td>\n",
       "      <td>0.56</td>\n",
       "      <td>9.4</td>\n",
       "      <td>5</td>\n",
       "    </tr>\n",
       "    <tr>\n",
       "      <th>1</th>\n",
       "      <td>7.8</td>\n",
       "      <td>0.88</td>\n",
       "      <td>0.00</td>\n",
       "      <td>2.6</td>\n",
       "      <td>0.098</td>\n",
       "      <td>25.0</td>\n",
       "      <td>67.0</td>\n",
       "      <td>0.9968</td>\n",
       "      <td>3.20</td>\n",
       "      <td>0.68</td>\n",
       "      <td>9.8</td>\n",
       "      <td>5</td>\n",
       "    </tr>\n",
       "    <tr>\n",
       "      <th>2</th>\n",
       "      <td>7.8</td>\n",
       "      <td>0.76</td>\n",
       "      <td>0.04</td>\n",
       "      <td>2.3</td>\n",
       "      <td>0.092</td>\n",
       "      <td>15.0</td>\n",
       "      <td>54.0</td>\n",
       "      <td>0.9970</td>\n",
       "      <td>3.26</td>\n",
       "      <td>0.65</td>\n",
       "      <td>9.8</td>\n",
       "      <td>5</td>\n",
       "    </tr>\n",
       "    <tr>\n",
       "      <th>3</th>\n",
       "      <td>11.2</td>\n",
       "      <td>0.28</td>\n",
       "      <td>0.56</td>\n",
       "      <td>1.9</td>\n",
       "      <td>0.075</td>\n",
       "      <td>17.0</td>\n",
       "      <td>60.0</td>\n",
       "      <td>0.9980</td>\n",
       "      <td>3.16</td>\n",
       "      <td>0.58</td>\n",
       "      <td>9.8</td>\n",
       "      <td>6</td>\n",
       "    </tr>\n",
       "    <tr>\n",
       "      <th>4</th>\n",
       "      <td>7.4</td>\n",
       "      <td>0.70</td>\n",
       "      <td>0.00</td>\n",
       "      <td>1.9</td>\n",
       "      <td>0.076</td>\n",
       "      <td>11.0</td>\n",
       "      <td>34.0</td>\n",
       "      <td>0.9978</td>\n",
       "      <td>3.51</td>\n",
       "      <td>0.56</td>\n",
       "      <td>9.4</td>\n",
       "      <td>5</td>\n",
       "    </tr>\n",
       "  </tbody>\n",
       "</table>\n",
       "</div>"
      ],
      "text/plain": [
       "   fixed acidity  volatile acidity  citric acid  residual sugar  chlorides  \\\n",
       "0            7.4              0.70         0.00             1.9      0.076   \n",
       "1            7.8              0.88         0.00             2.6      0.098   \n",
       "2            7.8              0.76         0.04             2.3      0.092   \n",
       "3           11.2              0.28         0.56             1.9      0.075   \n",
       "4            7.4              0.70         0.00             1.9      0.076   \n",
       "\n",
       "   free sulfur dioxide  total sulfur dioxide  density    pH  sulphates  \\\n",
       "0                 11.0                  34.0   0.9978  3.51       0.56   \n",
       "1                 25.0                  67.0   0.9968  3.20       0.68   \n",
       "2                 15.0                  54.0   0.9970  3.26       0.65   \n",
       "3                 17.0                  60.0   0.9980  3.16       0.58   \n",
       "4                 11.0                  34.0   0.9978  3.51       0.56   \n",
       "\n",
       "   alcohol  quality  \n",
       "0      9.4        5  \n",
       "1      9.8        5  \n",
       "2      9.8        5  \n",
       "3      9.8        6  \n",
       "4      9.4        5  "
      ]
     },
     "execution_count": 21,
     "metadata": {},
     "output_type": "execute_result"
    }
   ],
   "source": [
    "import pandas as pd\n",
    "\n",
    "df = pd.read_csv('winequality-red.csv', sep=';')\n",
    "df.head()"
   ]
  },
  {
   "cell_type": "code",
   "execution_count": 22,
   "metadata": {
    "collapsed": true
   },
   "outputs": [],
   "source": [
    "x = df[['density']]\n",
    "y = df[['alcohol']]"
   ]
  },
  {
   "cell_type": "markdown",
   "metadata": {
    "collapsed": true
   },
   "source": [
    "## 参考\n",
    "\n",
    "- https://tanuhack.com/python/basic-data-analysis/\n",
    "- https://qiita.com/ysdyt/items/9ccca82fc5b504e7913a\n",
    "- https://qiita.com/nanairoGlasses/items/f2b9c0eccf54ff262c02\n",
    "- http://www.ec.kansai-u.ac.jp/user/amatsuo/pdfstatecon/karich13-2010a.pdf\n",
    "- https://mathtrain.jp/sanhendo\n",
    "- https://to-kei.net/estimator/unbiasedness/\n",
    "- https://qiita.com/kibarashi1924/items/d25ec2476221626c9f3d\n",
    "- https://www.case-k.jp/entry/2018/06/24/224550\n",
    "- https://qiita.com/pshiko/items/17454ae238534444b222\n",
    "- https://blog.shikoan.com/deeplearning-is-not-ols/\n",
    "- https://pythondatascience.plavox.info/scikit-learn/線形回帰\n",
    "- http://ailaby.com/python_cov/\n",
    "- https://deepage.net/features/numpy-cov.html\n",
    "- https://deepage.net/features/pandas-numpy.html\n",
    "- https://toukei.link/programmingandsoftware/statistics_by_python/python_regression/\n",
    "- https://omedstu.jimdo.com/2019/02/11/matplotlibのみで線形回帰の信頼区間を描画する/\n",
    "- https://momonoki2017.blogspot.com/2018/03/python10.html"
   ]
  }
 ],
 "metadata": {
  "kernelspec": {
   "display_name": "Python 3",
   "language": "python",
   "name": "python3"
  },
  "language_info": {
   "codemirror_mode": {
    "name": "ipython",
    "version": 3
   },
   "file_extension": ".py",
   "mimetype": "text/x-python",
   "name": "python",
   "nbconvert_exporter": "python",
   "pygments_lexer": "ipython3",
   "version": "3.6.1"
  }
 },
 "nbformat": 4,
 "nbformat_minor": 2
}
